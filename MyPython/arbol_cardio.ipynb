{
 "cells": [
  {
   "cell_type": "markdown",
   "metadata": {},
   "source": [
    "# ÁRBOLES DE DECISIÓN "
   ]
  },
  {
   "cell_type": "markdown",
   "metadata": {},
   "source": [
    "\n",
    "### Transformaciones \n"
   ]
  },
  {
   "cell_type": "code",
   "execution_count": null,
   "metadata": {},
   "outputs": [],
   "source": [
    "# #? Cargamos las librerias\n",
    "from sklearn import tree "
   ]
  },
  {
   "cell_type": "markdown",
   "metadata": {},
   "source": [
    "### Cargamos los datos desde un archivo .CSV"
   ]
  },
  {
   "cell_type": "code",
   "execution_count": null,
   "metadata": {},
   "outputs": [],
   "source": [
    "# Cargamos las librerias\n",
    "import pandas as pd\n",
    "from sklearn.tree import DecisionTreeClassifier"
   ]
  },
  {
   "cell_type": "code",
   "execution_count": null,
   "metadata": {},
   "outputs": [],
   "source": [
    "datos = pd.read_csv(\"./dataset/Dataset.csv\")\n",
    "datos"
   ]
  },
  {
   "cell_type": "markdown",
   "metadata": {},
   "source": [
    "###  Renombramos las etiquetas de las columnas del dataset"
   ]
  },
  {
   "cell_type": "code",
   "execution_count": null,
   "metadata": {},
   "outputs": [],
   "source": [
    "datos = datos.rename(columns={'resting-ecg':'Reposo',\n",
    "                              'maximum-heart-rate':'Frecuencia_Cardiaca',\t\n",
    "                              'thal':'Estado',\n",
    "                              'class':'Diagnostico'})\n",
    "datos"
   ]
  },
  {
   "cell_type": "markdown",
   "metadata": {},
   "source": [
    "### Transformamos los valores nominales a numéricos "
   ]
  },
  {
   "cell_type": "code",
   "execution_count": null,
   "metadata": {},
   "outputs": [],
   "source": [
    "a = {'Rev':5, 'Fix':7,'Normal':6}\n",
    "b = {'Hyp':3,'Normal':4,'Abnormal':2}\n",
    "c = {'Sick':0, 'Healthy':1}\n",
    "datos['Reposo'] = datos['Reposo'].map(b)\n",
    "datos['Estado'] = datos['Estado'].map(a)\n",
    "datos['Diagnostico'] = datos['Diagnostico'].map(c)\n",
    "datos"
   ]
  },
  {
   "cell_type": "code",
   "execution_count": null,
   "metadata": {},
   "outputs": [],
   "source": [
    "datos"
   ]
  },
  {
   "cell_type": "markdown",
   "metadata": {},
   "source": [
    "### Cambiamos las etiquetas de diagnostico\n",
    "* DIAGNOSTICO\n",
    "- Sick = 0\n",
    "- Healthy = 1\n",
    "* REPOSO\n",
    "- Abnormal = 2\n",
    "- Hyp :3\n",
    "- Normal_reposo = 4\n",
    "* TAL\n",
    "- Rev = 5\n",
    "- Normal_tal = 6\n",
    "- Fix = 7"
   ]
  },
  {
   "cell_type": "markdown",
   "metadata": {},
   "source": [
    "#### Variables dependientes e independientes"
   ]
  },
  {
   "cell_type": "code",
   "execution_count": null,
   "metadata": {},
   "outputs": [],
   "source": [
    "# Variables Independientes\n",
    " \n",
    "vi = ['Reposo', 'Frecuencia_Cardiaca', 'Estado']\n",
    "x = datos[vi].values\n",
    "\n",
    "# Variable dependiente\n",
    "\n",
    "y = datos['Diagnostico']"
   ]
  },
  {
   "cell_type": "code",
   "execution_count": null,
   "metadata": {},
   "outputs": [],
   "source": [
    "# import warnings\n",
    "# warnings.filterwarnings('ignore')"
   ]
  },
  {
   "cell_type": "markdown",
   "metadata": {},
   "source": [
    "### Generar el modelo de clasificacion"
   ]
  },
  {
   "cell_type": "code",
   "execution_count": null,
   "metadata": {},
   "outputs": [],
   "source": [
    "# Definimos una variable para el algoritmo de clasificación\n",
    "\n",
    "clasificador = tree.DecisionTreeClassifier()\n",
    "\n",
    "# Entrenar al algoritmo de Clasificación\n",
    "\n",
    "clasificador.fit(x,y)\n",
    "\n",
    "# Predicciones\n",
    "\n",
    "predicciones = clasificador.predict([[2,150,7]])\n",
    "\n",
    "if predicciones == 0:\n",
    "    print('Enfermo')\n",
    "else:\n",
    "    print('Sano')\n",
    " "
   ]
  },
  {
   "cell_type": "markdown",
   "metadata": {},
   "source": [
    "* DIAGNOSTICO\n",
    "- Sick = 0\n",
    "- Healthy = 1\n",
    "* REPOSO\n",
    "- Abnormal = 2\n",
    "- Hyp :3\n",
    "- Normal_reposo = 4\n",
    "* TAL\n",
    "- Rev = 5\n",
    "- Normal_tal = 6\n",
    "- Fix = 7"
   ]
  }
 ],
 "metadata": {
  "kernelspec": {
   "display_name": "penv",
   "language": "python",
   "name": "python3"
  },
  "language_info": {
   "codemirror_mode": {
    "name": "ipython",
    "version": 3
   },
   "file_extension": ".py",
   "mimetype": "text/x-python",
   "name": "python",
   "nbconvert_exporter": "python",
   "pygments_lexer": "ipython3",
   "version": "3.12.2"
  }
 },
 "nbformat": 4,
 "nbformat_minor": 2
}
